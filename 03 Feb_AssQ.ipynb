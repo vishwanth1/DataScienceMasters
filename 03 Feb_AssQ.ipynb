{
 "cells": [
  {
   "cell_type": "code",
   "execution_count": 25,
   "id": "6f17b17e-025e-41fc-802c-8fca5feee9aa",
   "metadata": {},
   "outputs": [
    {
     "data": {
      "text/plain": [
       "[1, 3, 5, 7, 9, 11, 13, 15, 17, 19, 21, 23]"
      ]
     },
     "execution_count": 25,
     "metadata": {},
     "output_type": "execute_result"
    }
   ],
   "source": [
    "'''\n",
    "1. def is the keyword which is used to write functions in python\n",
    "'''\n",
    "\n",
    "def odd_numbers():\n",
    "    l = []\n",
    "    for i in range(1,25):\n",
    "        if i%2 != 0:\n",
    "            l.append(i)\n",
    "    return l\n",
    "\n",
    "odd_numbers()"
   ]
  },
  {
   "cell_type": "code",
   "execution_count": 26,
   "id": "e3d7237f-d374-4c0f-9da3-fdaad67f70a2",
   "metadata": {},
   "outputs": [
    {
     "name": "stdout",
     "output_type": "stream",
     "text": [
      "[2, 4]\n",
      "[2, 4]\n"
     ]
    }
   ],
   "source": [
    "'''\n",
    "2. args are used in some function as we might not know the number of arguements being passed into the function\n",
    "\n",
    "kwargs are used to send key value pairs as parameters. It will consider them as dictionary\n",
    "\n",
    "'''\n",
    "\n",
    "def args_program(*args):\n",
    "    l = []\n",
    "    for i in args:\n",
    "        if i%2 == 0:\n",
    "            l.append(i)\n",
    "    return l\n",
    "\n",
    "print(args_program(1,2,3,4))\n",
    "\n",
    "def kwargs_program(**kwargs):\n",
    "    a = []\n",
    "    for i in kwargs:\n",
    "        if kwargs[i]%2 == 0:\n",
    "            a.append(kwargs[i])\n",
    "    return a\n",
    "\n",
    "\n",
    "print(kwargs_program(a=1,b=2,c=3,d=4))"
   ]
  },
  {
   "cell_type": "code",
   "execution_count": 27,
   "id": "1aecb1dd-65af-45d5-b12d-3701a71d0922",
   "metadata": {},
   "outputs": [
    {
     "name": "stdout",
     "output_type": "stream",
     "text": [
      "2\n",
      "4\n",
      "6\n",
      "8\n",
      "10\n"
     ]
    }
   ],
   "source": [
    "'''\n",
    "3. Iterator is an object that can be iterated or something like countable values.\n",
    "iter is the method to initialize an iterator object and next is the method used for iteration\n",
    "'''\n",
    "\n",
    "l = [2, 4, 6, 8, 10, 12, 14, 16, 18, 20]\n",
    "myIterable = iter(l)\n",
    "\n",
    "print(next(myIterable))\n",
    "print(next(myIterable))\n",
    "print(next(myIterable))\n",
    "print(next(myIterable))\n",
    "print(next(myIterable))"
   ]
  },
  {
   "cell_type": "code",
   "execution_count": 28,
   "id": "23c8b9c0-a64b-4f32-a33b-9ed72c3ca751",
   "metadata": {},
   "outputs": [
    {
     "name": "stdout",
     "output_type": "stream",
     "text": [
      "1\n",
      "3\n",
      "5\n",
      "7\n",
      "9\n",
      "11\n",
      "13\n",
      "15\n",
      "17\n",
      "19\n",
      "21\n",
      "23\n"
     ]
    }
   ],
   "source": [
    "'''\n",
    "4. Generator functions will help developers to create a function that acts like an iterator. we use yield\n",
    "in generator functions which tells that it should continue the iteration and store the result in somewhere memory.\n",
    "'''\n",
    "\n",
    "def getOddNumber():\n",
    "    for i in range(1,25):\n",
    "        if i%2!=0:\n",
    "            yield i\n",
    "\n",
    "\n",
    "a = getOddNumber()\n",
    "\n",
    "for i in a:\n",
    "    print(i)"
   ]
  },
  {
   "cell_type": "code",
   "execution_count": 29,
   "id": "fc8ddec7-92ea-4c3c-aa89-8a88a99d9998",
   "metadata": {},
   "outputs": [],
   "source": [
    "def primeNumbers(n):\n",
    "    for i in range(2, n): \n",
    "        isPrime = True\n",
    "        for num in range(2, i):\n",
    "            if i % num == 0:\n",
    "                isPrime = False\n",
    "        if isPrime:\n",
    "            yield i\n",
    "            \n",
    "c = primeNumbers(1000)"
   ]
  },
  {
   "cell_type": "code",
   "execution_count": 30,
   "id": "11512161-c29f-4d5a-8d87-bd6940b15fb4",
   "metadata": {},
   "outputs": [
    {
     "name": "stdout",
     "output_type": "stream",
     "text": [
      "2\n",
      "3\n",
      "5\n",
      "7\n",
      "11\n",
      "13\n",
      "17\n",
      "19\n",
      "23\n",
      "29\n",
      "31\n",
      "37\n",
      "41\n",
      "43\n",
      "47\n",
      "53\n",
      "59\n",
      "61\n",
      "67\n",
      "71\n"
     ]
    }
   ],
   "source": [
    "i = 0\n",
    "\n",
    "while i!=20:\n",
    "    print(next(c))\n",
    "    i = i+1"
   ]
  },
  {
   "cell_type": "code",
   "execution_count": null,
   "id": "421ced1b-d9df-43e7-b9d5-8f09a1bb26bb",
   "metadata": {},
   "outputs": [],
   "source": []
  }
 ],
 "metadata": {
  "kernelspec": {
   "display_name": "Python 3 (ipykernel)",
   "language": "python",
   "name": "python3"
  },
  "language_info": {
   "codemirror_mode": {
    "name": "ipython",
    "version": 3
   },
   "file_extension": ".py",
   "mimetype": "text/x-python",
   "name": "python",
   "nbconvert_exporter": "python",
   "pygments_lexer": "ipython3",
   "version": "3.10.8"
  }
 },
 "nbformat": 4,
 "nbformat_minor": 5
}
