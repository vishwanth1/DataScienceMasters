{
 "cells": [
  {
   "cell_type": "code",
   "execution_count": 56,
   "id": "a8f28727-9798-4170-b036-ac48a609a202",
   "metadata": {},
   "outputs": [],
   "source": [
    "def product_of_numbers(lst):\n",
    "    flat_list = []\n",
    "    lst1 = []\n",
    "    for item in lst:\n",
    "        if isinstance(item, (list, tuple, set)):\n",
    "            flat_list.extend(item)\n",
    "        elif isinstance(item, dict):\n",
    "            flat_list.extend(item.keys())\n",
    "            flat_list.extend(item.values())\n",
    "        elif isinstance(item, (int, float)):\n",
    "            flat_list.append(item)\n",
    "            \n",
    "    for item in flat_list:\n",
    "        if isinstance(item, (int, float)):\n",
    "            lst1.append(item)\n",
    "        if isinstance(item, (list, tuple, set)):\n",
    "            lst1.extend(item)\n",
    "            \n",
    "    product = 1\n",
    "    for num in lst1:\n",
    "        product *= num\n",
    "    return product"
   ]
  },
  {
   "cell_type": "code",
   "execution_count": 57,
   "id": "1e2d5e8f-5a1c-4c53-976b-0327264d3f4f",
   "metadata": {},
   "outputs": [],
   "source": [
    "list1 = [1,2,3,4, [44,55,66, True], False, (34,56,78,89,34), {1,2,3,3,2,1}, {1:34, \"key2\": [55, 67, 78, 89], 4: (45,  22, 61, 34)}, [56, 'data science'], 'Machine Learning'] "
   ]
  },
  {
   "cell_type": "code",
   "execution_count": 58,
   "id": "7fe7bf08-ac87-451b-83e4-35d8d2f75a80",
   "metadata": {},
   "outputs": [
    {
     "data": {
      "text/plain": [
       "0"
      ]
     },
     "execution_count": 58,
     "metadata": {},
     "output_type": "execute_result"
    }
   ],
   "source": [
    "product_of_numbers(list1)"
   ]
  },
  {
   "cell_type": "code",
   "execution_count": 59,
   "id": "63b1b659-19a0-4299-a68d-9938e5c7bc0a",
   "metadata": {},
   "outputs": [
    {
     "name": "stdout",
     "output_type": "stream",
     "text": [
      "Input Sentence:  I want to become a Data Scientist.\n",
      "Encrypted Message:  r$dzmg$gl$yvxlnv$z$wzgz$hxrvmgrhg.\n"
     ]
    }
   ],
   "source": [
    "def encrypt_message(message):\n",
    "    encrypted = \"\"\n",
    "    for char in message.lower():\n",
    "        if char.isalpha():\n",
    "            encrypted += chr(ord('a') + (25 - (ord(char) - ord('a'))))\n",
    "        elif char == \" \":\n",
    "            encrypted += \"$\"\n",
    "        else:\n",
    "            encrypted += char\n",
    "    return encrypted\n",
    "\n",
    "input_sentence = \"I want to become a Data Scientist.\"\n",
    "encrypted_message = encrypt_message(input_sentence)\n",
    "\n",
    "print(\"Input Sentence: \", input_sentence)\n",
    "print(\"Encrypted Message: \", encrypted_message)\n"
   ]
  },
  {
   "cell_type": "code",
   "execution_count": null,
   "id": "61d06866-15f8-41fc-99d5-0fb5289ddc8d",
   "metadata": {},
   "outputs": [],
   "source": []
  }
 ],
 "metadata": {
  "kernelspec": {
   "display_name": "Python 3 (ipykernel)",
   "language": "python",
   "name": "python3"
  },
  "language_info": {
   "codemirror_mode": {
    "name": "ipython",
    "version": 3
   },
   "file_extension": ".py",
   "mimetype": "text/x-python",
   "name": "python",
   "nbconvert_exporter": "python",
   "pygments_lexer": "ipython3",
   "version": "3.10.8"
  }
 },
 "nbformat": 4,
 "nbformat_minor": 5
}
