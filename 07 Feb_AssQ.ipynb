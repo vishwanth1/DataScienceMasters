{
 "cells": [
  {
   "cell_type": "code",
   "execution_count": 1,
   "id": "e3c58d69-4e9e-4b98-9a30-0a611f160e81",
   "metadata": {},
   "outputs": [],
   "source": [
    "def check_password(password):\n",
    "    # Check if password is 10 characters long\n",
    "    if len(password) != 10:\n",
    "        return \"Invalid Password\"\n",
    "    \n",
    "    # Initialize counters for uppercase, lowercase, numbers, and special characters\n",
    "    upper_count = 0\n",
    "    lower_count = 0\n",
    "    num_count = 0\n",
    "    spec_count = 0\n",
    "    \n",
    "    # Iterate through each character in the password\n",
    "    for char in password:\n",
    "        # Check if character is uppercase\n",
    "        if char.isupper():\n",
    "            upper_count += 1\n",
    "        # Check if character is lowercase\n",
    "        elif char.islower():\n",
    "            lower_count += 1\n",
    "        # Check if character is a number\n",
    "        elif char.isnumeric():\n",
    "            num_count += 1\n",
    "        # Check if character is a special character\n",
    "        elif char in \"!@#$%^&*()_+-=[]{}|;':\\\"<>,.?/~`\":\n",
    "            spec_count += 1\n",
    "    \n",
    "    # Check if the password meets the requirements\n",
    "    if upper_count >= 2 and lower_count >= 2 and num_count >= 1 and spec_count >= 3:\n",
    "        return \"Valid Password\"\n",
    "    else:\n",
    "        return \"Invalid Password\""
   ]
  },
  {
   "cell_type": "code",
   "execution_count": 4,
   "id": "8a05c019-81d4-4f2e-acf4-cddc950ed09c",
   "metadata": {},
   "outputs": [
    {
     "data": {
      "text/plain": [
       "'Valid Password'"
      ]
     },
     "execution_count": 4,
     "metadata": {},
     "output_type": "execute_result"
    }
   ],
   "source": [
    "check_password(\"DataSc@@@1\")"
   ]
  },
  {
   "cell_type": "code",
   "execution_count": 5,
   "id": "32a71fa9-303f-4487-aad9-c44782e41b13",
   "metadata": {},
   "outputs": [],
   "source": [
    "import re\n",
    "\n",
    "def check_password(password):\n",
    "    if len(password) != 10:\n",
    "        return \"Invalid Password\"\n",
    "    \n",
    "    upper_count = len(re.findall(r'[A-Z]', password))\n",
    "    lower_count = len(re.findall(r'[a-z]', password))\n",
    "    num_count = len(re.findall(r'\\d', password))\n",
    "    spec_count = len(re.findall(r'[^\\w\\s]', password))\n",
    "    \n",
    "    if upper_count < 2 or lower_count < 2 or num_count < 1 or spec_count < 3:\n",
    "        return \"Invalid Password\"\n",
    "    else:\n",
    "        return \"Valid Password\""
   ]
  },
  {
   "cell_type": "code",
   "execution_count": 6,
   "id": "6bcefb29-44bd-48b6-9b9d-f4e77b615976",
   "metadata": {},
   "outputs": [
    {
     "data": {
      "text/plain": [
       "'Valid Password'"
      ]
     },
     "execution_count": 6,
     "metadata": {},
     "output_type": "execute_result"
    }
   ],
   "source": [
    "check_password(\"DataSc@@@1\")"
   ]
  },
  {
   "cell_type": "code",
   "execution_count": 8,
   "id": "0ee1c924-9327-4ffe-9fc1-f587aae7032f",
   "metadata": {},
   "outputs": [
    {
     "name": "stdout",
     "output_type": "stream",
     "text": [
      "True\n"
     ]
    }
   ],
   "source": [
    "string = \"Hello World\"\n",
    "check = lambda s: s.startswith('H')\n",
    "print(check(string))"
   ]
  },
  {
   "cell_type": "code",
   "execution_count": 9,
   "id": "dad48383-d549-4710-a238-9080e0231eb6",
   "metadata": {},
   "outputs": [
    {
     "name": "stdout",
     "output_type": "stream",
     "text": [
      "True\n",
      "False\n",
      "False\n"
     ]
    }
   ],
   "source": [
    "string1 = \"12345\"\n",
    "string2 = \"12.34\"\n",
    "string3 = \"abc123\"\n",
    "check_numeric = lambda s: s.isnumeric()\n",
    "print(check_numeric(string1))\n",
    "print(check_numeric(string2))\n",
    "print(check_numeric(string3))"
   ]
  },
  {
   "cell_type": "code",
   "execution_count": 10,
   "id": "e662c075-b3d4-4e5a-943b-7f8cda1cec90",
   "metadata": {},
   "outputs": [
    {
     "name": "stdout",
     "output_type": "stream",
     "text": [
      "[('orange', 80), ('mango', 99), ('grapes', 1000)]\n"
     ]
    }
   ],
   "source": [
    "fruits = [(\"mango\",99),(\"orange\",80), (\"grapes\", 1000)]\n",
    "sorted_fruits = sorted(fruits, key=lambda x: x[1])\n",
    "print(sorted_fruits)"
   ]
  },
  {
   "cell_type": "code",
   "execution_count": 11,
   "id": "e1ceb65f-3c21-4b8e-85d6-2a7992d1e093",
   "metadata": {},
   "outputs": [
    {
     "name": "stdout",
     "output_type": "stream",
     "text": [
      "[1, 4, 9, 16, 25, 36, 49, 64, 81, 100]\n"
     ]
    }
   ],
   "source": [
    "squares = [x**2 for x in range(1, 11)]\n",
    "print(squares)"
   ]
  },
  {
   "cell_type": "code",
   "execution_count": 12,
   "id": "7104b712-4c35-43e7-b7fd-54c2f1195196",
   "metadata": {},
   "outputs": [
    {
     "name": "stdout",
     "output_type": "stream",
     "text": [
      "[1.0, 1.2599210498948732, 1.4422495703074083, 1.5874010519681994, 1.7099759466766968, 1.8171205928321397, 1.912931182772389, 2.0, 2.080083823051904, 2.154434690031884]\n"
     ]
    }
   ],
   "source": [
    "import math\n",
    "cube_roots = [math.pow(x, 1/3) for x in range(1, 11)]\n",
    "print(cube_roots)"
   ]
  },
  {
   "cell_type": "code",
   "execution_count": 13,
   "id": "d0940b3c-48d6-4faf-b2d0-d7defea0ce58",
   "metadata": {},
   "outputs": [
    {
     "name": "stdout",
     "output_type": "stream",
     "text": [
      "False\n",
      "True\n"
     ]
    }
   ],
   "source": [
    "check_even = lambda x: x%2==0\n",
    "print(check_even(5))\n",
    "print(check_even(10))"
   ]
  },
  {
   "cell_type": "code",
   "execution_count": 14,
   "id": "4095e627-0c7b-4b5c-8a08-23c0afbf48b6",
   "metadata": {},
   "outputs": [
    {
     "name": "stdout",
     "output_type": "stream",
     "text": [
      "[1, 3, 5, 7, 9]\n"
     ]
    }
   ],
   "source": [
    "numbers = [1,2,3,4,5,6,7,8,9,10]\n",
    "odd_numbers = list(filter(lambda x: x%2!=0, numbers))\n",
    "print(odd_numbers)"
   ]
  },
  {
   "cell_type": "code",
   "execution_count": 15,
   "id": "1b1993cd-93ae-419b-bc84-6060997e02ac",
   "metadata": {},
   "outputs": [
    {
     "name": "stdout",
     "output_type": "stream",
     "text": [
      "[1, 2, 3, 4, 5, 6]\n",
      "[-1, -2, -3, -4, -5]\n"
     ]
    }
   ],
   "source": [
    "numbers = [1,2,3,4,5,6,-1,-2,-3,-4,-5,0]\n",
    "positive_numbers = list(filter(lambda x: x>0, numbers))\n",
    "negative_numbers = list(filter(lambda x: x<0, numbers))\n",
    "print(positive_numbers)\n",
    "print(negative_numbers)"
   ]
  },
  {
   "cell_type": "code",
   "execution_count": null,
   "id": "e977eecd-2c8c-4a60-8219-640514443c71",
   "metadata": {},
   "outputs": [],
   "source": []
  }
 ],
 "metadata": {
  "kernelspec": {
   "display_name": "Python 3 (ipykernel)",
   "language": "python",
   "name": "python3"
  },
  "language_info": {
   "codemirror_mode": {
    "name": "ipython",
    "version": 3
   },
   "file_extension": ".py",
   "mimetype": "text/x-python",
   "name": "python",
   "nbconvert_exporter": "python",
   "pygments_lexer": "ipython3",
   "version": "3.10.8"
  }
 },
 "nbformat": 4,
 "nbformat_minor": 5
}
