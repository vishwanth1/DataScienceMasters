{
 "cells": [
  {
   "cell_type": "markdown",
   "id": "99eceba0-e26e-470b-8005-51eba8f66150",
   "metadata": {},
   "source": [
    "1. Python Programming Language was developed by Guido van Rossum in the late 1980s and was first released in 1991.\n",
    "\n",
    "2. Python supports multiple programming paradigms, including procedural, object-oriented, and functional programming.\n",
    "\n",
    "3. Yes, Python is case sensitive when dealing with identifiers. For example, \"my_variable\" and \"My_Variable\" are considered two different variables in Python.\n",
    "\n",
    "4. The correct extension of the Python file is \".py\". For example, \"my_program.py\" is a valid file name for a Python program.\n",
    "\n",
    "5. Python code is interpreted, which means that the code is executed line by line by the Python interpreter without being compiled into machine code beforehand.\n",
    "\n",
    "6. In Python, blocks of code are defined using indentation. For example, a function definition in Python would look like:"
   ]
  },
  {
   "cell_type": "code",
   "execution_count": 1,
   "id": "088b46cc-923f-4b9b-9808-da6246641f03",
   "metadata": {},
   "outputs": [],
   "source": [
    "def my_function():\n",
    "    # Indented block of code\n",
    "    print(\"Hello, world!\")\n"
   ]
  },
  {
   "cell_type": "code",
   "execution_count": 2,
   "id": "35759aff-3002-42d4-8b7b-90622a730dbf",
   "metadata": {},
   "outputs": [
    {
     "name": "stdout",
     "output_type": "stream",
     "text": [
      "Hello, world!\n"
     ]
    }
   ],
   "source": [
    "my_function()"
   ]
  },
  {
   "cell_type": "markdown",
   "id": "533856ba-1a94-48f6-b1d9-a1c439e267b9",
   "metadata": {},
   "source": [
    "7. The hash symbol (#) is used to give single-line comments in Python. Any text following the hash symbol on the same line will be ignored by the Python interpreter. For example:"
   ]
  },
  {
   "cell_type": "code",
   "execution_count": 3,
   "id": "ed52d2de-ab03-48c3-9a62-0a153fdbf1b5",
   "metadata": {},
   "outputs": [
    {
     "name": "stdout",
     "output_type": "stream",
     "text": [
      "Hello, world!\n"
     ]
    }
   ],
   "source": [
    "# This is a single-line comment in Python\n",
    "print(\"Hello, world!\")"
   ]
  },
  {
   "cell_type": "markdown",
   "id": "54e1020b-7e07-494d-bed2-43a4793212e6",
   "metadata": {},
   "source": [
    "8. Two functions that can help us find the version of Python that we are currently working on are:\n",
    "sys.version\n",
    "platform.python_version()\n",
    "python --version\n",
    "\n",
    "\n",
    "9. Python supports the creation of anonymous functions at runtime, using a construct called lambda functions.\n",
    "\n",
    "10 . \"pip\" stands for \"Pip Installs Packages\". It is a package manager for Python that is used to install, upgrade, and manage third-party Python packages and libraries.\n",
    "\n",
    "11. Some built-in functions in Python include:\n",
    "\n",
    "print(): This function is used to output text to the console.\n",
    "len(): This function is used to get the length of a sequence, such as a string or list.\n",
    "type(): This function is used to get the type of an object.\n",
    "range(): This function is used to generate a sequence of numbers.\n",
    "sum(): This function is used to get the sum of a sequence of numbers.\n",
    "\n",
    "\n",
    "12. The maximum possible length of an identifier in Python is implementation-dependent. In CPython, the default implementation of Python, the maximum length is 255 characters.\n",
    "\n",
    "13. Some benefits of using Python include:\n",
    "\n",
    "Easy to learn and use: Python has a simple syntax and is easy to read, write, and understand.\n",
    "Cross-platform compatibility: Python code can run on multiple operating systems, including Windows, macOS, and Linux.\n",
    "Large and active community: Python has a large community of developers who contribute to the language and create third-party libraries and packages.\n",
    "Extensive standard library: Python comes with a large standard library that includes modules for a wide range of tasks, from working with files and databases to web development and data analysis.\n",
    "\n",
    "14. Memory management in Python is handled by a mechanism called garbage collection. When an object is no longer referenced by any part of the program, the garbage collector frees up the memory that was allocated to the object.\n",
    "\n",
    "15. To install Python on Windows and set path variables, you can follow these steps:\n",
    "\n",
    "Download the latest version of Python from the official website and run the installer.\n",
    "During the installation, make sure to select the \"Add Python to PATH\" option.\n",
    "Once the installation is complete, open the Command Prompt and type \"python\" to make sure that Python is installed correctly and the path variables are set up.\n",
    "\n",
    "\n",
    "16.Yes, indentation is required in Python to define blocks of code, such as function definitions, loops, and conditional statements. In Python, code blocks are defined by their indentation level, rather than by enclosing braces or keywords. This is a unique feature of Python that helps to make the code more readable and consistent."
   ]
  },
  {
   "cell_type": "code",
   "execution_count": null,
   "id": "712fc1b7-d359-46ae-9ffa-e77582d7c486",
   "metadata": {},
   "outputs": [],
   "source": []
  }
 ],
 "metadata": {
  "kernelspec": {
   "display_name": "Python 3 (ipykernel)",
   "language": "python",
   "name": "python3"
  },
  "language_info": {
   "codemirror_mode": {
    "name": "ipython",
    "version": 3
   },
   "file_extension": ".py",
   "mimetype": "text/x-python",
   "name": "python",
   "nbconvert_exporter": "python",
   "pygments_lexer": "ipython3",
   "version": "3.10.8"
  }
 },
 "nbformat": 4,
 "nbformat_minor": 5
}
