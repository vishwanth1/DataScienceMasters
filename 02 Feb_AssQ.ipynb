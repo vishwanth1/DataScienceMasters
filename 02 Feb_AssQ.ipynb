{
 "cells": [
  {
   "cell_type": "markdown",
   "id": "b14b7c0b-0eeb-4a70-8034-00e1f376ed5a",
   "metadata": {},
   "source": [
    "1. Tuples are ordered, indexed, immutable, allows duplicate items"
   ]
  },
  {
   "cell_type": "markdown",
   "id": "c5e40e4e-b5a3-4976-a0c6-75f8a8e9b4b2",
   "metadata": {},
   "source": [
    "2. Tuples have count() and index() as built in methods. It has only two methods because tuples are immutable so we cannot add or modify them directly."
   ]
  },
  {
   "cell_type": "code",
   "execution_count": 3,
   "id": "a56888d9-a1b2-48a7-ba42-98b1b358ea3a",
   "metadata": {},
   "outputs": [
    {
     "name": "stdout",
     "output_type": "stream",
     "text": [
      "2\n",
      "2\n"
     ]
    }
   ],
   "source": [
    "myTuple = (1,2,3,1,2,3,\"vish\",\"sunn\")\n",
    "print(myTuple.count(2))\n",
    "print(myTuple.index(3))"
   ]
  },
  {
   "cell_type": "markdown",
   "id": "de3526bf-f615-49d2-9aec-9fae6d1f996a",
   "metadata": {},
   "source": [
    "3. Set collection doesnt allow duplicate items."
   ]
  },
  {
   "cell_type": "code",
   "execution_count": 5,
   "id": "a6ba700c-9fed-4509-b18c-8d4f638df5ce",
   "metadata": {},
   "outputs": [
    {
     "name": "stdout",
     "output_type": "stream",
     "text": [
      "{1, 2, 3, 4}\n"
     ]
    }
   ],
   "source": [
    "List = [1, 1, 1, 2, 1, 3, 1, 4, 2, 1, 2, 2, 2, 3, 2, 4, 3, 1, 3, 2, 3, 3, 3, 4, 4, 1, 4, 2, 4, 3, 4, 4]\n",
    "print(set(List))"
   ]
  },
  {
   "cell_type": "markdown",
   "id": "aa624cd1-34ac-4a77-bbe1-336f88df3d48",
   "metadata": {},
   "source": [
    "4. The difference between union and update methods of set is defined as both perform same operation but update doesnt return to a new set.\n",
    "for example if i have two sets s1 and s2 and perform s3 = s1.update(s2) then s3 doesnt have anything. If we perform s3 = s1.union(s2) it will return a new set adding the missing element of s2 into s1."
   ]
  },
  {
   "cell_type": "code",
   "execution_count": 8,
   "id": "160f058a-9220-4f47-adc1-8ca82c768165",
   "metadata": {},
   "outputs": [
    {
     "data": {
      "text/plain": [
       "{1, 2, 3, 4, 5}"
      ]
     },
     "execution_count": 8,
     "metadata": {},
     "output_type": "execute_result"
    }
   ],
   "source": [
    "s1 = {1,2,3,4}\n",
    "s2 = {2,3,4,5}\n",
    "\n",
    "s1.union(s2)"
   ]
  },
  {
   "cell_type": "code",
   "execution_count": 13,
   "id": "b1385007-d4ca-4ffd-92c8-1f5e4ae4c2b1",
   "metadata": {},
   "outputs": [
    {
     "name": "stdout",
     "output_type": "stream",
     "text": [
      "{1, 2, 3, 4, 5}\n"
     ]
    }
   ],
   "source": [
    "s1 = {1,2,3,4}\n",
    "s2 = {2,3,4,5}\n",
    "\n",
    "s1.update(s2)\n",
    "\n",
    "print(s1)"
   ]
  },
  {
   "cell_type": "code",
   "execution_count": 16,
   "id": "b81d597c-5804-4ff0-8615-404d8b1162ad",
   "metadata": {},
   "outputs": [
    {
     "data": {
      "text/plain": [
       "{1, 2, 3, 4, 5}"
      ]
     },
     "execution_count": 16,
     "metadata": {},
     "output_type": "execute_result"
    }
   ],
   "source": [
    "s1 = {1,2,3,4}\n",
    "s2 = {2,3,4,5}\n",
    "\n",
    "s3 = s1.union(s2)\n",
    "s3"
   ]
  },
  {
   "cell_type": "code",
   "execution_count": 17,
   "id": "12edad23-8b6e-4d67-9e2a-8bd1af9738c7",
   "metadata": {},
   "outputs": [],
   "source": [
    "s1 = {1,2,3,4}\n",
    "s2 = {2,3,4,5}\n",
    "\n",
    "s3 = s1.update(s2)\n",
    "s3"
   ]
  },
  {
   "cell_type": "code",
   "execution_count": 18,
   "id": "5fe3c6fe-3b36-4abf-b37c-8b1c8a9fd2c5",
   "metadata": {},
   "outputs": [
    {
     "name": "stdout",
     "output_type": "stream",
     "text": [
      "None\n"
     ]
    }
   ],
   "source": [
    "print(s3)"
   ]
  },
  {
   "cell_type": "markdown",
   "id": "cfd3182e-72ec-48b2-ae3b-015f5f4e7e79",
   "metadata": {},
   "source": [
    "5. Dictionary is one of the collection in python. It stores the values in the form of key value pair similar to our english dictionary. According to the latest version dictionary is ordered from python 3.7 before that it is unordered."
   ]
  },
  {
   "cell_type": "code",
   "execution_count": 19,
   "id": "a8a338b5-c358-4f93-acc4-a82a7c691655",
   "metadata": {},
   "outputs": [],
   "source": [
    "dic = {'a':'hi','b':1,(1,2,3):6}"
   ]
  },
  {
   "cell_type": "code",
   "execution_count": 20,
   "id": "dba43283-2941-4554-afeb-2e137a80297a",
   "metadata": {},
   "outputs": [
    {
     "data": {
      "text/plain": [
       "{'a': 'hi', 'b': 1, (1, 2, 3): 6}"
      ]
     },
     "execution_count": 20,
     "metadata": {},
     "output_type": "execute_result"
    }
   ],
   "source": [
    "dic"
   ]
  },
  {
   "cell_type": "markdown",
   "id": "a9639e1e-c7cc-4537-801a-e8765a7c6dc0",
   "metadata": {},
   "source": [
    "6. yes we can create a nested dictionary."
   ]
  },
  {
   "cell_type": "code",
   "execution_count": 21,
   "id": "3e0b0194-53d1-4394-b153-926faaaa4c7f",
   "metadata": {},
   "outputs": [],
   "source": [
    "dic = {'a':'hi', 'b':1, 'c':{ 'vish':'sun', 'course':'cse', 'grade':9}}"
   ]
  },
  {
   "cell_type": "code",
   "execution_count": 22,
   "id": "5a647ee5-bc56-4a38-af3a-f51397392668",
   "metadata": {},
   "outputs": [
    {
     "data": {
      "text/plain": [
       "{'a': 'hi', 'b': 1, 'c': {'vish': 'sun', 'course': 'cse', 'grade': 9}}"
      ]
     },
     "execution_count": 22,
     "metadata": {},
     "output_type": "execute_result"
    }
   ],
   "source": [
    "dic"
   ]
  },
  {
   "cell_type": "code",
   "execution_count": 23,
   "id": "0ffcb047-c697-46f5-9b08-9e1652392f8c",
   "metadata": {},
   "outputs": [
    {
     "data": {
      "text/plain": [
       "dict"
      ]
     },
     "execution_count": 23,
     "metadata": {},
     "output_type": "execute_result"
    }
   ],
   "source": [
    "type(dic)"
   ]
  },
  {
   "cell_type": "code",
   "execution_count": 25,
   "id": "3b76a3e1-3302-4ea6-b5e8-9d49489bd2e7",
   "metadata": {},
   "outputs": [
    {
     "data": {
      "text/plain": [
       "{'language': 'Python',\n",
       " 'course': 'Data Science Masters',\n",
       " 'topics': ['Python', 'Machine Learning', 'Deep Learning']}"
      ]
     },
     "execution_count": 25,
     "metadata": {},
     "output_type": "execute_result"
    }
   ],
   "source": [
    "dict1 = {'language' : 'Python', 'course': 'Data Science Masters'}\n",
    "\n",
    "dict1.setdefault('topics',['Python', 'Machine Learning', 'Deep Learning'])\n",
    "\n",
    "dict1"
   ]
  },
  {
   "cell_type": "markdown",
   "id": "01de1181-8f4c-494c-bf71-206a87bb3be2",
   "metadata": {},
   "source": [
    "8. three view objects are key,item and values"
   ]
  },
  {
   "cell_type": "code",
   "execution_count": 26,
   "id": "516d756a-5339-4783-a589-7615d890508a",
   "metadata": {},
   "outputs": [
    {
     "data": {
      "text/plain": [
       "dict_keys(['Sport', 'Teams'])"
      ]
     },
     "execution_count": 26,
     "metadata": {},
     "output_type": "execute_result"
    }
   ],
   "source": [
    "dict1 = {'Sport': 'Cricket' , 'Teams': ['India', 'Australia', 'England', 'South Africa', 'Sri Lanka', 'New Zealand']}\n",
    "\n",
    "dict1.keys()"
   ]
  },
  {
   "cell_type": "code",
   "execution_count": 28,
   "id": "9dc61f92-57ac-43a5-afc7-aee85df324f5",
   "metadata": {},
   "outputs": [
    {
     "data": {
      "text/plain": [
       "dict_values(['Cricket', ['India', 'Australia', 'England', 'South Africa', 'Sri Lanka', 'New Zealand']])"
      ]
     },
     "execution_count": 28,
     "metadata": {},
     "output_type": "execute_result"
    }
   ],
   "source": [
    "dict1.values()"
   ]
  },
  {
   "cell_type": "code",
   "execution_count": 29,
   "id": "f654b846-216b-4df2-8e57-1db9b34bf660",
   "metadata": {},
   "outputs": [
    {
     "data": {
      "text/plain": [
       "dict_items([('Sport', 'Cricket'), ('Teams', ['India', 'Australia', 'England', 'South Africa', 'Sri Lanka', 'New Zealand'])])"
      ]
     },
     "execution_count": 29,
     "metadata": {},
     "output_type": "execute_result"
    }
   ],
   "source": [
    "dict1.items()"
   ]
  },
  {
   "cell_type": "code",
   "execution_count": null,
   "id": "c80bc507-97f6-4de2-88fb-79f4a6294ae1",
   "metadata": {},
   "outputs": [],
   "source": []
  }
 ],
 "metadata": {
  "kernelspec": {
   "display_name": "Python 3 (ipykernel)",
   "language": "python",
   "name": "python3"
  },
  "language_info": {
   "codemirror_mode": {
    "name": "ipython",
    "version": 3
   },
   "file_extension": ".py",
   "mimetype": "text/x-python",
   "name": "python",
   "nbconvert_exporter": "python",
   "pygments_lexer": "ipython3",
   "version": "3.10.8"
  }
 },
 "nbformat": 4,
 "nbformat_minor": 5
}
