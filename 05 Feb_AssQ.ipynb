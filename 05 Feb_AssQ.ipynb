{
 "cells": [
  {
   "cell_type": "markdown",
   "id": "303efb4f-30aa-40b8-af0b-05b01e9afa81",
   "metadata": {},
   "source": [
    "Q1.\n",
    "\n",
    "In Object-Oriented Programming (OOP), a class is a blueprint or template for creating objects, which are instances of the class. A class defines a set of attributes and methods that an object of that class will possess. Objects, on the other hand, are instances of a class that have their own unique set of attribute values and method behavior.\n",
    "\n",
    "For example, consider the class \"Car\" which has attributes such as make, model, color, and methods such as start(), stop(), accelerate(). We can create an object of this class as follows:"
   ]
  },
  {
   "cell_type": "code",
   "execution_count": 17,
   "id": "2e44a9db-0f34-4104-bd1d-734e84cb3392",
   "metadata": {},
   "outputs": [],
   "source": [
    "class Car:\n",
    "    def __init__(self, make, model, color):\n",
    "        self.make = make\n",
    "        self.model = model\n",
    "        self.color = color\n",
    "\n",
    "    def start(self):\n",
    "        print(\"The car has started.\")\n",
    "\n",
    "    def stop(self):\n",
    "        print(\"The car has stopped.\")\n",
    "\n",
    "    def accelerate(self):\n",
    "        print(\"The car is accelerating.\")\n",
    "\n",
    "my_car = Car(\"Toyota\", \"Corolla\", \"Red\")"
   ]
  },
  {
   "cell_type": "code",
   "execution_count": 18,
   "id": "ecb21abf-40f1-4364-ad8f-06b996732d27",
   "metadata": {},
   "outputs": [
    {
     "data": {
      "text/plain": [
       "'Corolla'"
      ]
     },
     "execution_count": 18,
     "metadata": {},
     "output_type": "execute_result"
    }
   ],
   "source": [
    "my_car.model"
   ]
  },
  {
   "cell_type": "code",
   "execution_count": 19,
   "id": "64a89ff2-d68f-437e-b475-8613c2e30111",
   "metadata": {},
   "outputs": [
    {
     "name": "stdout",
     "output_type": "stream",
     "text": [
      "The car is accelerating.\n"
     ]
    }
   ],
   "source": [
    "my_car.accelerate()"
   ]
  },
  {
   "cell_type": "markdown",
   "id": "53d04f52-48ec-4ffb-b0cd-9e45d0f42335",
   "metadata": {},
   "source": [
    "Q2.\n",
    "\n",
    "The four pillars of OOPs are:\n",
    "\n",
    "Encapsulation: Encapsulation refers to the bundling of data and methods within a single unit or object, hiding the implementation details from the outside world.\n",
    "\n",
    "Abstraction: Abstraction refers to the process of defining a complex system in terms of its most important properties, while ignoring its other aspects.\n",
    "\n",
    "Inheritance: Inheritance allows a class to inherit the attributes and methods of another class, promoting code reuse and creating a hierarchical class structure.\n",
    "\n",
    "Polymorphism: Polymorphism refers to the ability of objects of different classes to respond to the same message or method invocation in different ways, based on their own implementation of the method."
   ]
  },
  {
   "cell_type": "markdown",
   "id": "c3151b7b-e272-4283-8874-f171b38426da",
   "metadata": {},
   "source": [
    "Q3.\n",
    "\n",
    "In OOP, the init() function is used to initialize the attributes of an object when it is created. This function is called a constructor and is automatically called when an object is created from a class.\n",
    "\n",
    "For example, let's modify the \"Car\" class example from Q1 to include the init() function:"
   ]
  },
  {
   "cell_type": "code",
   "execution_count": 20,
   "id": "ad3fbde3-7fde-4cba-9b6c-d1fe74cef489",
   "metadata": {},
   "outputs": [],
   "source": [
    "class Car:\n",
    "    def __init__(self, make, model, color):\n",
    "        self.make = make\n",
    "        self.model = model\n",
    "        self.color = color\n",
    "\n",
    "    def start(self):\n",
    "        print(\"The car has started.\")\n",
    "\n",
    "    def stop(self):\n",
    "        print(\"The car has stopped.\")\n",
    "\n",
    "    def accelerate(self):\n",
    "        print(\"The car is accelerating.\")\n",
    "\n",
    "my_car = Car(\"Toyota\", \"Corolla\", \"Red\")"
   ]
  },
  {
   "cell_type": "code",
   "execution_count": 21,
   "id": "e7e7455f-3143-4c69-b679-40fe0502f17a",
   "metadata": {},
   "outputs": [
    {
     "data": {
      "text/plain": [
       "'Red'"
      ]
     },
     "execution_count": 21,
     "metadata": {},
     "output_type": "execute_result"
    }
   ],
   "source": [
    "my_car.color"
   ]
  },
  {
   "cell_type": "markdown",
   "id": "1582e991-9d09-4e74-aa54-16f3b65dbdfa",
   "metadata": {},
   "source": [
    "Q4.\n",
    "\n",
    "In OOPs, the \"self\" keyword is used to refer to the instance of the class that a method is being called on. It is a reference to the object itself. The \"self\" keyword is used to access the attributes and methods of the object.\n",
    "\n",
    "For example, consider the \"Car\" class example from Q1:"
   ]
  },
  {
   "cell_type": "code",
   "execution_count": 22,
   "id": "f7ea750d-eda9-4def-87a8-bcaedd11f894",
   "metadata": {},
   "outputs": [],
   "source": [
    "class Car:\n",
    "    def __init__(self, make, model, color):\n",
    "        self.make = make\n",
    "        self.model = model\n",
    "        self.color = color\n",
    "\n",
    "    def start(self):\n",
    "        print(\"The car has started.\")\n",
    "\n",
    "    def stop(self):\n",
    "        print(\"The car has stopped.\")\n",
    "\n",
    "    def accelerate(self):\n",
    "        print(\"The car is accelerating.\")\n",
    "\n",
    "my_car = Car(\"Toyota\", \"Corolla\", \"Red\")"
   ]
  },
  {
   "cell_type": "code",
   "execution_count": 23,
   "id": "cf51d5d2-562f-4a33-8dc3-6deb04c76e39",
   "metadata": {},
   "outputs": [
    {
     "data": {
      "text/plain": [
       "'Toyota'"
      ]
     },
     "execution_count": 23,
     "metadata": {},
     "output_type": "execute_result"
    }
   ],
   "source": [
    "my_car.make"
   ]
  },
  {
   "cell_type": "markdown",
   "id": "1345440e-ff4a-4bf1-9b71-9590ff08175d",
   "metadata": {},
   "source": [
    "Q5.\n",
    "\n",
    "Inheritance is a mechanism in OOPs that allows a class to inherit attributes and methods from another class. The class that is being inherited from is called the parent class or superclass, and the class that inherits from it is called the child class or subclass."
   ]
  },
  {
   "cell_type": "markdown",
   "id": "b2341523-20bc-477f-813f-a271c4727d2b",
   "metadata": {},
   "source": [
    "There are four types of inheritance:\n",
    "\n",
    "Single inheritance: When a child class inherits from a single parent class. For example:"
   ]
  },
  {
   "cell_type": "code",
   "execution_count": 24,
   "id": "7fa75fce-5dd9-4310-a127-96bba06b0ab7",
   "metadata": {},
   "outputs": [
    {
     "name": "stdout",
     "output_type": "stream",
     "text": [
      "Rex\n",
      "The dog is barking.\n",
      "The animal is eating.\n"
     ]
    }
   ],
   "source": [
    "class Animal:\n",
    "    def __init__(self, name):\n",
    "        self.name = name\n",
    "\n",
    "    def eat(self):\n",
    "        print(\"The animal is eating.\")\n",
    "\n",
    "class Dog(Animal):\n",
    "    def bark(self):\n",
    "        print(\"The dog is barking.\")\n",
    "\n",
    "my_dog = Dog(\"Rex\")\n",
    "print(my_dog.name)\n",
    "my_dog.bark()\n",
    "my_dog.eat()\n"
   ]
  },
  {
   "cell_type": "markdown",
   "id": "47f24b1b-0590-4693-93e3-c7e3905517dd",
   "metadata": {},
   "source": [
    "Multiple inheritance: When a child class inherits from multiple parent classes. For example:"
   ]
  },
  {
   "cell_type": "code",
   "execution_count": 25,
   "id": "120bb983-8157-4bb9-b809-b0a0e3b789f8",
   "metadata": {},
   "outputs": [
    {
     "name": "stdout",
     "output_type": "stream",
     "text": [
      "Method A\n"
     ]
    }
   ],
   "source": [
    "class A:\n",
    "    def method(self):\n",
    "        print(\"Method A\")\n",
    "\n",
    "class B:\n",
    "    def method(self):\n",
    "        print(\"Method B\")\n",
    "\n",
    "class C(A, B):\n",
    "    pass\n",
    "\n",
    "my_c = C()\n",
    "my_c.method()"
   ]
  },
  {
   "cell_type": "markdown",
   "id": "403db628-2565-42c8-9eb2-12a5af33b66a",
   "metadata": {},
   "source": [
    "Hierarchical inheritance: When a child class inherits from a single parent class, and that parent class itself inherits from another parent class. For example:"
   ]
  },
  {
   "cell_type": "code",
   "execution_count": 26,
   "id": "58635e34-aebc-4681-835d-268ebee8ec8b",
   "metadata": {},
   "outputs": [
    {
     "name": "stdout",
     "output_type": "stream",
     "text": [
      "Rex\n",
      "The dog is barking.\n",
      "The mammal is walking.\n",
      "The animal is eating.\n"
     ]
    }
   ],
   "source": [
    "class Animal:\n",
    "    def __init__(self, name):\n",
    "        self.name = name\n",
    "\n",
    "    def eat(self):\n",
    "        print(\"The animal is eating.\")\n",
    "\n",
    "class Mammal(Animal):\n",
    "    def walk(self):\n",
    "        print(\"The mammal is walking.\")\n",
    "\n",
    "class Dog(Mammal):\n",
    "    def bark(self):\n",
    "        print(\"The dog is barking.\")\n",
    "\n",
    "my_dog = Dog(\"Rex\")\n",
    "print(my_dog.name)\n",
    "my_dog.bark()\n",
    "my_dog.walk()\n",
    "my_dog.eat()"
   ]
  },
  {
   "cell_type": "markdown",
   "id": "64f01d69-d28b-4ef7-8bf4-25e66c8098a6",
   "metadata": {},
   "source": [
    "Multilevel inheritance: When a child class inherits from a parent class that itself inherits from another parent class. For example:"
   ]
  },
  {
   "cell_type": "code",
   "execution_count": 27,
   "id": "5931f34e-8b57-4f99-8331-32dead2fdb0b",
   "metadata": {},
   "outputs": [
    {
     "name": "stdout",
     "output_type": "stream",
     "text": [
      "Tesla\n",
      "Model S\n",
      "2022\n",
      "4\n",
      "400\n"
     ]
    }
   ],
   "source": [
    "class Vehicle:\n",
    "    def __init__(self, make, model, year):\n",
    "        self.make = make\n",
    "        self.model = model\n",
    "        self.year = year\n",
    "\n",
    "class Car(Vehicle):\n",
    "    def __init__(self, make, model, year, doors):\n",
    "        super().__init__(make, model, year)\n",
    "        self.doors = doors\n",
    "\n",
    "class ElectricCar(Car):\n",
    "    def __init__(self, make, model, year, doors, range):\n",
    "        super().__init__(make, model, year, doors)\n",
    "        self.range = range\n",
    "\n",
    "my_electric_car = ElectricCar(\"Tesla\", \"Model S\", 2022, 4, 400)\n",
    "print(my_electric_car.make)\n",
    "print(my_electric_car.model)\n",
    "print(my_electric_car.year)\n",
    "print(my_electric_car.doors)\n",
    "print(my_electric_car.range)"
   ]
  },
  {
   "cell_type": "markdown",
   "id": "f1649f59-9f1f-487c-a9db-75bcc26532f3",
   "metadata": {},
   "source": [
    "Hybrid inheritance: When a child class uses a combination of different types of inheritance. For example:"
   ]
  },
  {
   "cell_type": "code",
   "execution_count": 28,
   "id": "19bb07fc-c838-415d-ba69-519495decebb",
   "metadata": {},
   "outputs": [
    {
     "name": "stdout",
     "output_type": "stream",
     "text": [
      "The animal is moving.\n",
      "The mammal is feeding milk.\n",
      "The bird is laying eggs.\n"
     ]
    }
   ],
   "source": [
    "class Animal:\n",
    "    def move(self):\n",
    "        print(\"The animal is moving.\")\n",
    "\n",
    "class Mammal(Animal):\n",
    "    def feed_milk(self):\n",
    "        print(\"The mammal is feeding milk.\")\n",
    "\n",
    "class Bird(Animal):\n",
    "    def lay_eggs(self):\n",
    "        print(\"The bird is laying eggs.\")\n",
    "\n",
    "class Platypus(Mammal, Bird):\n",
    "    pass\n",
    "\n",
    "my_platypus = Platypus()\n",
    "my_platypus.move()\n",
    "my_platypus.feed_milk()\n",
    "my_platypus.lay_eggs()\n"
   ]
  },
  {
   "cell_type": "code",
   "execution_count": null,
   "id": "828be0ac-fa43-4694-9f95-05af0af3f9d1",
   "metadata": {},
   "outputs": [],
   "source": []
  }
 ],
 "metadata": {
  "kernelspec": {
   "display_name": "Python 3 (ipykernel)",
   "language": "python",
   "name": "python3"
  },
  "language_info": {
   "codemirror_mode": {
    "name": "ipython",
    "version": 3
   },
   "file_extension": ".py",
   "mimetype": "text/x-python",
   "name": "python",
   "nbconvert_exporter": "python",
   "pygments_lexer": "ipython3",
   "version": "3.10.8"
  }
 },
 "nbformat": 4,
 "nbformat_minor": 5
}
